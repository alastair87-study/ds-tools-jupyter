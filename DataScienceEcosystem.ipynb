{
 "cells": [
  {
   "cell_type": "markdown",
   "id": "41b2bac5-9d7c-4b98-b103-3ed4233b77b3",
   "metadata": {},
   "source": [
    "# Data Science Tools and Ecosystem"
   ]
  },
  {
   "cell_type": "markdown",
   "id": "9f3a586f-3764-42fc-8301-6a6887085aaf",
   "metadata": {},
   "source": [
    "In this notebook, Data Science Tools and Ecosystem are summarized."
   ]
  },
  {
   "cell_type": "markdown",
   "id": "0b31ea9b-ee76-4c70-ba56-32fe04a763e8",
   "metadata": {},
   "source": [
    "Some of the popular languages that Data Scientists use are:\n",
    "1. Python\n",
    "2. R\n",
    "3. Julia"
   ]
  },
  {
   "cell_type": "markdown",
   "id": "c07c0164-d37a-43e1-bf08-131f0406b458",
   "metadata": {},
   "source": [
    "Some of the commonly used libraries used by Data Scientists include:\n",
    "1. pandas (Python)\n",
    "2. TensorFlow (Python)\n",
    "3. dplyr (R)\n"
   ]
  },
  {
   "cell_type": "markdown",
   "id": "27d3f8e9-c113-40c5-9d3b-91a4a25d9181",
   "metadata": {},
   "source": [
    "| Data Science Tools |\n",
    "| - |\n",
    "| Jupyter |\n",
    "| RStudio |\n",
    "| Visual Studio Code |"
   ]
  },
  {
   "cell_type": "markdown",
   "id": "74b0bb01-b63d-4f31-8ead-5cc768887cfb",
   "metadata": {},
   "source": [
    "### Below are a few examples of evaluating arithmetic expressions in Python"
   ]
  },
  {
   "cell_type": "code",
   "execution_count": 1,
   "id": "fc2f9e18-59e0-4800-89c2-dcd1308cfc83",
   "metadata": {
    "tags": []
   },
   "outputs": [
    {
     "data": {
      "text/plain": [
       "17"
      ]
     },
     "execution_count": 1,
     "metadata": {},
     "output_type": "execute_result"
    }
   ],
   "source": [
    "# This a simple arithmetic expression to mutiply then add integers\n",
    "(3*4)+5"
   ]
  },
  {
   "cell_type": "code",
   "execution_count": 2,
   "id": "281c03fe-9d64-40fc-a4c0-bfc4350ad067",
   "metadata": {
    "tags": []
   },
   "outputs": [
    {
     "data": {
      "text/plain": [
       "3.3333333333333335"
      ]
     },
     "execution_count": 2,
     "metadata": {},
     "output_type": "execute_result"
    }
   ],
   "source": [
    "# This will convert 200 minutes to hours by diving by 60\n",
    "200/60"
   ]
  },
  {
   "cell_type": "markdown",
   "id": "b6b57768-f24a-49a6-bc18-94a08a0931ed",
   "metadata": {},
   "source": [
    "**Objectives**\n",
    "* List popular languages for Data Science\n",
    "* List popular open source development tools used in Data Science\n",
    "* Demonstrate how to use ordered lists in Markdown\n",
    "* Demonstrate how to create a table in Markdown\n",
    "* Demonstrate how to evaluate simple arithmetic expressions in Python"
   ]
  },
  {
   "cell_type": "markdown",
   "id": "fb736765-a908-47df-b73e-be85b1e4584a",
   "metadata": {},
   "source": [
    "## Author\n",
    "Alastair Cooper"
   ]
  },
  {
   "cell_type": "code",
   "execution_count": null,
   "id": "727946d8-da8e-446c-b9d3-9c015bfa6708",
   "metadata": {},
   "outputs": [],
   "source": []
  }
 ],
 "metadata": {
  "kernelspec": {
   "display_name": "Python 3 (ipykernel)",
   "language": "python",
   "name": "python3"
  },
  "language_info": {
   "codemirror_mode": {
    "name": "ipython",
    "version": 3
   },
   "file_extension": ".py",
   "mimetype": "text/x-python",
   "name": "python",
   "nbconvert_exporter": "python",
   "pygments_lexer": "ipython3",
   "version": "3.10.10"
  }
 },
 "nbformat": 4,
 "nbformat_minor": 5
}
